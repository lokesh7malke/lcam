{
 "cells": [
  {
   "cell_type": "code",
   "execution_count": 15,
   "metadata": {},
   "outputs": [],
   "source": [
    "# Tensorflow and Keras should be at their latest version for good accuracy.\n",
    "# Versions used here are : \n",
    "#               tensorflow Version - 2.2.0\n",
    "#               keras Version - 2.4.3\n",
    "# If the system is GPU enabled, CUDA and CUDnn should be installed and added to path."
   ]
  },
  {
   "cell_type": "code",
   "execution_count": 16,
   "metadata": {
    "id": "xF3cGcpLXk4S"
   },
   "outputs": [],
   "source": [
    "# All necessary imports\n",
    "from keras.models import Sequential\n",
    "from keras.layers import Conv2D, MaxPooling2D\n",
    "from keras.layers import Activation, Dropout, Flatten, Dense\n",
    "from keras import backend as K\n",
    "from keras.preprocessing.image import ImageDataGenerator, array_to_img, img_to_array, load_img\n",
    "from keras.optimizers import Adam, RMSprop\n",
    "import glob\n",
    "import numpy as np"
   ]
  },
  {
   "cell_type": "code",
   "execution_count": 17,
   "metadata": {},
   "outputs": [
    {
     "name": "stdout",
     "output_type": "stream",
     "text": [
      "2.4.3\n",
      "2.2.0\n"
     ]
    }
   ],
   "source": [
    "# Check versions\n",
    "import keras\n",
    "import tensorflow \n",
    "print(keras.__version__)\n",
    "print(tensorflow.__version__)"
   ]
  },
  {
   "cell_type": "code",
   "execution_count": 18,
   "metadata": {
    "id": "aK2XG6DIXk4b"
   },
   "outputs": [],
   "source": [
    "#Here Image dimensions are in the ratio 3:2. \n",
    "#It can be changed based on object shapes.\n",
    "\n",
    "img_width, img_height = 500, 300"
   ]
  },
  {
   "cell_type": "code",
   "execution_count": 19,
   "metadata": {
    "id": "8m1O1jGdXk4i"
   },
   "outputs": [],
   "source": [
    "train_data_dir = 'images/train' #train images path\n",
    "val_data_dir = 'images/validation'\n",
    "test_data_dir = 'images/test' #test images path\n",
    "epochs = 50\n",
    "batch_size = 16 "
   ]
  },
  {
   "cell_type": "code",
   "execution_count": 20,
   "metadata": {
    "id": "VfUFqjAFXk4p"
   },
   "outputs": [],
   "source": [
    "if K.image_data_format() == 'channels_first':\n",
    "    input_shape = (3, img_width, img_height)\n",
    "else:\n",
    "    input_shape = (img_width, img_height, 3)"
   ]
  },
  {
   "cell_type": "code",
   "execution_count": 21,
   "metadata": {
    "id": "3xjSwDNCXk4v"
   },
   "outputs": [],
   "source": [
    "# Training Network (Model)\n",
    "\n",
    "model = Sequential()\n",
    "\n",
    "model.add(Conv2D(32, (3, 3), input_shape=input_shape))\n",
    "model.add(Activation('relu'))\n",
    "model.add(MaxPooling2D(pool_size=(2, 2)))\n",
    "\n",
    "model.add(Conv2D(64, (3, 3)))\n",
    "model.add(Activation('relu'))\n",
    "model.add(MaxPooling2D(pool_size=(2, 2)))\n",
    "\n",
    "model.add(Conv2D(32, (3, 3)))\n",
    "model.add(Activation('relu'))\n",
    "model.add(MaxPooling2D(pool_size=(2, 2)))\n",
    "\n",
    "model.add(Flatten())\n",
    "model.add(Dense(64))\n",
    "model.add(Activation('relu'))\n",
    "model.add(Dropout(0.5))\n",
    "model.add(Dense(1))\n",
    "model.add(Activation('sigmoid'))"
   ]
  },
  {
   "cell_type": "code",
   "execution_count": 22,
   "metadata": {
    "id": "NAnPqyN2Xk41"
   },
   "outputs": [],
   "source": [
    "# Hyperparameters\n",
    "sgd = RMSprop(lr=0.00001)\n",
    "model.compile(loss='binary_crossentropy',\n",
    "              optimizer=sgd,\n",
    "              metrics=['accuracy'])"
   ]
  },
  {
   "cell_type": "code",
   "execution_count": 23,
   "metadata": {
    "colab": {
     "base_uri": "https://localhost:8080/",
     "height": 663
    },
    "id": "b8EkrASvXk5F",
    "outputId": "e843cc2d-b670-4a08-f5b6-e5dc099fb1c2"
   },
   "outputs": [
    {
     "name": "stdout",
     "output_type": "stream",
     "text": [
      "Model: \"sequential_1\"\n",
      "_________________________________________________________________\n",
      "Layer (type)                 Output Shape              Param #   \n",
      "=================================================================\n",
      "conv2d_3 (Conv2D)            (None, 498, 298, 32)      896       \n",
      "_________________________________________________________________\n",
      "activation_5 (Activation)    (None, 498, 298, 32)      0         \n",
      "_________________________________________________________________\n",
      "max_pooling2d_3 (MaxPooling2 (None, 249, 149, 32)      0         \n",
      "_________________________________________________________________\n",
      "conv2d_4 (Conv2D)            (None, 247, 147, 64)      18496     \n",
      "_________________________________________________________________\n",
      "activation_6 (Activation)    (None, 247, 147, 64)      0         \n",
      "_________________________________________________________________\n",
      "max_pooling2d_4 (MaxPooling2 (None, 123, 73, 64)       0         \n",
      "_________________________________________________________________\n",
      "conv2d_5 (Conv2D)            (None, 121, 71, 32)       18464     \n",
      "_________________________________________________________________\n",
      "activation_7 (Activation)    (None, 121, 71, 32)       0         \n",
      "_________________________________________________________________\n",
      "max_pooling2d_5 (MaxPooling2 (None, 60, 35, 32)        0         \n",
      "_________________________________________________________________\n",
      "flatten_1 (Flatten)          (None, 67200)             0         \n",
      "_________________________________________________________________\n",
      "dense_2 (Dense)              (None, 64)                4300864   \n",
      "_________________________________________________________________\n",
      "activation_8 (Activation)    (None, 64)                0         \n",
      "_________________________________________________________________\n",
      "dropout_1 (Dropout)          (None, 64)                0         \n",
      "_________________________________________________________________\n",
      "dense_3 (Dense)              (None, 1)                 65        \n",
      "_________________________________________________________________\n",
      "activation_9 (Activation)    (None, 1)                 0         \n",
      "=================================================================\n",
      "Total params: 4,338,785\n",
      "Trainable params: 4,338,785\n",
      "Non-trainable params: 0\n",
      "_________________________________________________________________\n"
     ]
    }
   ],
   "source": [
    "# Print Summary of Model\n",
    "model.summary()"
   ]
  },
  {
   "cell_type": "code",
   "execution_count": 24,
   "metadata": {
    "colab": {
     "base_uri": "https://localhost:8080/",
     "height": 34
    },
    "id": "C2QZpcICXk5N",
    "outputId": "fd6fbbf1-9a05-4bb3-ba7e-8e998690d7b9"
   },
   "outputs": [
    {
     "name": "stdout",
     "output_type": "stream",
     "text": [
      "Found 504 images belonging to 2 classes.\n",
      "Found 86 images belonging to 2 classes.\n"
     ]
    }
   ],
   "source": [
    "# Using ImageDataGenerator to use \"flow_from_directory\" function which automatically..\n",
    "#..labels the binary classification images.\n",
    "# All identical class images should be kept in seperate folders under one train folder.\n",
    "# Thus for binary classification train folder will have two sub folders.\n",
    "# No need to rescale the pixel values of images\n",
    "\n",
    "train_datagen = ImageDataGenerator(rescale=1./255)\n",
    "val_datagen = ImageDataGenerator(rescale=1./255,)\n",
    "\n",
    "train_generator = train_datagen.flow_from_directory(\n",
    "    train_data_dir,\n",
    "    target_size=(img_width, img_height),\n",
    "    batch_size=batch_size,\n",
    "    class_mode='binary')\n",
    "\n",
    "val_generator = val_datagen.flow_from_directory(\n",
    "    val_data_dir,\n",
    "    target_size=(img_width, img_height),\n",
    "    batch_size=batch_size,\n",
    "    class_mode='binary')"
   ]
  },
  {
   "cell_type": "code",
   "execution_count": 25,
   "metadata": {
    "colab": {
     "base_uri": "https://localhost:8080/",
     "height": 1000
    },
    "id": "-GWMHKAYXk5T",
    "outputId": "f9ef08f8-eb21-4199-ccec-6f6dc86e102f"
   },
   "outputs": [
    {
     "name": "stdout",
     "output_type": "stream",
     "text": [
      "Epoch 1/50\n",
      "16/16 [==============================] - 71s 4s/step - loss: 0.6872 - accuracy: 0.5484 - val_loss: 0.6918 - val_accuracy: 0.5000\n",
      "Epoch 2/50\n",
      "16/16 [==============================] - 68s 4s/step - loss: 0.7079 - accuracy: 0.5078 - val_loss: 0.6818 - val_accuracy: 0.6047\n",
      "Epoch 3/50\n",
      "16/16 [==============================] - 68s 4s/step - loss: 0.6951 - accuracy: 0.5040 - val_loss: 0.6786 - val_accuracy: 0.5930\n",
      "Epoch 4/50\n",
      "16/16 [==============================] - 67s 4s/step - loss: 0.6881 - accuracy: 0.5391 - val_loss: 0.6792 - val_accuracy: 0.5000\n",
      "Epoch 5/50\n",
      "16/16 [==============================] - 67s 4s/step - loss: 0.6794 - accuracy: 0.5469 - val_loss: 0.6765 - val_accuracy: 0.5000\n",
      "Epoch 6/50\n",
      "16/16 [==============================] - 67s 4s/step - loss: 0.6623 - accuracy: 0.6016 - val_loss: 0.6669 - val_accuracy: 0.6628\n",
      "Epoch 7/50\n",
      "16/16 [==============================] - 67s 4s/step - loss: 0.6762 - accuracy: 0.5430 - val_loss: 0.6609 - val_accuracy: 0.7209\n",
      "Epoch 8/50\n",
      "16/16 [==============================] - 67s 4s/step - loss: 0.6672 - accuracy: 0.6211 - val_loss: 0.6586 - val_accuracy: 0.6860\n",
      "Epoch 9/50\n",
      "16/16 [==============================] - 65s 4s/step - loss: 0.6551 - accuracy: 0.6290 - val_loss: 0.6615 - val_accuracy: 0.5233\n",
      "Epoch 10/50\n",
      "16/16 [==============================] - 67s 4s/step - loss: 0.6456 - accuracy: 0.6992 - val_loss: 0.6421 - val_accuracy: 0.8023\n",
      "Epoch 11/50\n",
      "16/16 [==============================] - 66s 4s/step - loss: 0.6545 - accuracy: 0.6411 - val_loss: 0.6352 - val_accuracy: 0.7791\n",
      "Epoch 12/50\n",
      "16/16 [==============================] - 68s 4s/step - loss: 0.6255 - accuracy: 0.7031 - val_loss: 0.6260 - val_accuracy: 0.7907\n",
      "Epoch 13/50\n",
      "16/16 [==============================] - 65s 4s/step - loss: 0.6471 - accuracy: 0.6492 - val_loss: 0.6208 - val_accuracy: 0.8256\n",
      "Epoch 14/50\n",
      "16/16 [==============================] - 65s 4s/step - loss: 0.6298 - accuracy: 0.6331 - val_loss: 0.6105 - val_accuracy: 0.7907\n",
      "Epoch 15/50\n",
      "16/16 [==============================] - 68s 4s/step - loss: 0.5982 - accuracy: 0.7461 - val_loss: 0.6045 - val_accuracy: 0.7558\n",
      "Epoch 16/50\n",
      "16/16 [==============================] - 66s 4s/step - loss: 0.6049 - accuracy: 0.6935 - val_loss: 0.6182 - val_accuracy: 0.6163\n",
      "Epoch 17/50\n",
      "16/16 [==============================] - 66s 4s/step - loss: 0.5989 - accuracy: 0.6895 - val_loss: 0.5854 - val_accuracy: 0.7558\n",
      "Epoch 18/50\n",
      "16/16 [==============================] - 67s 4s/step - loss: 0.5891 - accuracy: 0.7188 - val_loss: 0.5737 - val_accuracy: 0.7791\n",
      "Epoch 19/50\n",
      "16/16 [==============================] - 69s 4s/step - loss: 0.5796 - accuracy: 0.7500 - val_loss: 0.5710 - val_accuracy: 0.8023\n",
      "Epoch 20/50\n",
      "16/16 [==============================] - 67s 4s/step - loss: 0.5968 - accuracy: 0.6573 - val_loss: 0.5763 - val_accuracy: 0.7442\n",
      "Epoch 21/50\n",
      "16/16 [==============================] - 65s 4s/step - loss: 0.5670 - accuracy: 0.7298 - val_loss: 0.5549 - val_accuracy: 0.7791\n",
      "Epoch 22/50\n",
      "16/16 [==============================] - 69s 4s/step - loss: 0.5738 - accuracy: 0.7305 - val_loss: 0.5452 - val_accuracy: 0.7674\n",
      "Epoch 23/50\n",
      "16/16 [==============================] - 69s 4s/step - loss: 0.5557 - accuracy: 0.7305 - val_loss: 0.5351 - val_accuracy: 0.7674\n",
      "Epoch 24/50\n",
      "16/16 [==============================] - 67s 4s/step - loss: 0.5637 - accuracy: 0.7137 - val_loss: 0.5347 - val_accuracy: 0.7558\n",
      "Epoch 25/50\n",
      "16/16 [==============================] - 67s 4s/step - loss: 0.5631 - accuracy: 0.7383 - val_loss: 0.5354 - val_accuracy: 0.7674\n",
      "Epoch 26/50\n",
      "16/16 [==============================] - 69s 4s/step - loss: 0.5260 - accuracy: 0.7773 - val_loss: 0.5163 - val_accuracy: 0.7791\n",
      "Epoch 27/50\n",
      "16/16 [==============================] - 68s 4s/step - loss: 0.5466 - accuracy: 0.7218 - val_loss: 0.5151 - val_accuracy: 0.7791\n",
      "Epoch 28/50\n",
      "16/16 [==============================] - 66s 4s/step - loss: 0.5108 - accuracy: 0.7823 - val_loss: 0.5043 - val_accuracy: 0.7558\n",
      "Epoch 29/50\n",
      "16/16 [==============================] - 69s 4s/step - loss: 0.5270 - accuracy: 0.7656 - val_loss: 0.4978 - val_accuracy: 0.7674\n",
      "Epoch 30/50\n",
      "16/16 [==============================] - 67s 4s/step - loss: 0.5215 - accuracy: 0.7617 - val_loss: 0.4893 - val_accuracy: 0.7907\n",
      "Epoch 31/50\n",
      "16/16 [==============================] - 67s 4s/step - loss: 0.5451 - accuracy: 0.7148 - val_loss: 0.5039 - val_accuracy: 0.8023\n",
      "Epoch 32/50\n",
      "16/16 [==============================] - 67s 4s/step - loss: 0.5152 - accuracy: 0.7891 - val_loss: 0.4816 - val_accuracy: 0.8023\n",
      "Epoch 33/50\n",
      "16/16 [==============================] - 67s 4s/step - loss: 0.4988 - accuracy: 0.7969 - val_loss: 0.4738 - val_accuracy: 0.8140\n",
      "Epoch 34/50\n",
      "16/16 [==============================] - 65s 4s/step - loss: 0.4978 - accuracy: 0.7661 - val_loss: 0.4644 - val_accuracy: 0.8023\n",
      "Epoch 35/50\n",
      "16/16 [==============================] - 65s 4s/step - loss: 0.5101 - accuracy: 0.7621 - val_loss: 0.4645 - val_accuracy: 0.7791\n",
      "Epoch 36/50\n",
      "16/16 [==============================] - 68s 4s/step - loss: 0.4943 - accuracy: 0.7656 - val_loss: 0.4544 - val_accuracy: 0.8256\n",
      "Epoch 37/50\n",
      "16/16 [==============================] - 67s 4s/step - loss: 0.4633 - accuracy: 0.7930 - val_loss: 0.4631 - val_accuracy: 0.8140\n",
      "Epoch 38/50\n",
      "16/16 [==============================] - 70s 4s/step - loss: 0.4481 - accuracy: 0.8242 - val_loss: 0.4363 - val_accuracy: 0.8256\n",
      "Epoch 39/50\n",
      "16/16 [==============================] - 67s 4s/step - loss: 0.4572 - accuracy: 0.8125 - val_loss: 0.4405 - val_accuracy: 0.8023\n",
      "Epoch 40/50\n",
      "16/16 [==============================] - 67s 4s/step - loss: 0.4582 - accuracy: 0.7891 - val_loss: 0.4293 - val_accuracy: 0.8256\n",
      "Epoch 41/50\n",
      "16/16 [==============================] - 67s 4s/step - loss: 0.4442 - accuracy: 0.7891 - val_loss: 0.4267 - val_accuracy: 0.8140\n",
      "Epoch 42/50\n",
      "16/16 [==============================] - 66s 4s/step - loss: 0.4758 - accuracy: 0.7661 - val_loss: 0.4201 - val_accuracy: 0.8256\n",
      "Epoch 43/50\n",
      "16/16 [==============================] - 66s 4s/step - loss: 0.4389 - accuracy: 0.8347 - val_loss: 0.4210 - val_accuracy: 0.8605\n",
      "Epoch 44/50\n",
      "16/16 [==============================] - 2200s 138s/step - loss: 0.4520 - accuracy: 0.8203 - val_loss: 0.4135 - val_accuracy: 0.8372\n",
      "Epoch 45/50\n",
      "16/16 [==============================] - 68s 4s/step - loss: 0.4401 - accuracy: 0.8164 - val_loss: 0.4047 - val_accuracy: 0.8372\n",
      "Epoch 46/50\n",
      "16/16 [==============================] - 67s 4s/step - loss: 0.4339 - accuracy: 0.7969 - val_loss: 0.4120 - val_accuracy: 0.8488\n",
      "Epoch 47/50\n",
      "16/16 [==============================] - 67s 4s/step - loss: 0.4292 - accuracy: 0.7969 - val_loss: 0.3901 - val_accuracy: 0.8837\n",
      "Epoch 48/50\n",
      "16/16 [==============================] - 66s 4s/step - loss: 0.4374 - accuracy: 0.8024 - val_loss: 0.3933 - val_accuracy: 0.8721\n",
      "Epoch 49/50\n",
      "16/16 [==============================] - 65s 4s/step - loss: 0.4113 - accuracy: 0.8427 - val_loss: 0.3796 - val_accuracy: 0.8721\n",
      "Epoch 50/50\n",
      "16/16 [==============================] - 67s 4s/step - loss: 0.4218 - accuracy: 0.8203 - val_loss: 0.3872 - val_accuracy: 0.8721\n"
     ]
    },
    {
     "data": {
      "text/plain": [
       "<tensorflow.python.keras.callbacks.History at 0x7f7f902cd6a0>"
      ]
     },
     "execution_count": 25,
     "metadata": {},
     "output_type": "execute_result"
    }
   ],
   "source": [
    "#Training the model\n",
    "#model.fit_generator(train_it, steps_per_epoch=16, validation_data=val_it, validation_steps=8)\n",
    "model.fit( train_generator, steps_per_epoch=16, validation_data=val_generator, epochs=epochs)"
   ]
  },
  {
   "cell_type": "code",
   "execution_count": 23,
   "metadata": {
    "id": "9FzUE2cXXk5Z"
   },
   "outputs": [],
   "source": [
    "#Saving model\n",
    "model.save('final_orientation_model.h5')"
   ]
  },
  {
   "cell_type": "code",
   "execution_count": 27,
   "metadata": {
    "colab": {
     "base_uri": "https://localhost:8080/",
     "height": 221
    },
    "id": "i6UpFYNHYFce",
    "outputId": "0afbb58c-b7fa-4c0f-8b8f-4edeed7b15d0"
   },
   "outputs": [
    {
     "name": "stdout",
     "output_type": "stream",
     "text": [
      "1\n",
      "0\n",
      "0\n",
      "0\n",
      "1\n",
      "1\n",
      "0\n",
      "1\n",
      "0\n",
      "1\n",
      "0\n",
      "1\n"
     ]
    }
   ],
   "source": [
    "# Predict the output for all test images\n",
    "test_names = sorted(glob.glob(\"images/test/test_folder/*.png\"))\n",
    "for name in test_names :\n",
    "  img = load_img(name,target_size=(450,300))\n",
    "  input_arr = img_to_array(img)\n",
    "  input_arr = np.array([input_arr])  # Convert single image to a batch.\n",
    "  print(int(model.predict(input_arr)))"
   ]
  },
  {
   "cell_type": "code",
   "execution_count": 26,
   "metadata": {},
   "outputs": [],
   "source": [
    "# ImageDataGenerator function should not be used for predicting output for test images as it may give...\n",
    "# ... wrong results. Reason for this can be found out."
   ]
  },
  {
   "cell_type": "code",
   "execution_count": null,
   "metadata": {},
   "outputs": [],
   "source": []
  }
 ],
 "metadata": {
  "accelerator": "GPU",
  "colab": {
   "collapsed_sections": [],
   "name": "train_orientation1.ipynb",
   "provenance": []
  },
  "kernelspec": {
   "display_name": "Python 3",
   "language": "python",
   "name": "python3"
  },
  "language_info": {
   "codemirror_mode": {
    "name": "ipython",
    "version": 3
   },
   "file_extension": ".py",
   "mimetype": "text/x-python",
   "name": "python",
   "nbconvert_exporter": "python",
   "pygments_lexer": "ipython3",
   "version": "3.5.2"
  }
 },
 "nbformat": 4,
 "nbformat_minor": 1
}
