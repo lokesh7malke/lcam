{
 "cells": [
  {
   "cell_type": "code",
   "execution_count": 1,
   "metadata": {},
   "outputs": [],
   "source": [
    "# Tensorflow and Keras should be at their latest version for good accuracy.\n",
    "# Versions used here are : \n",
    "#               tensorflow Version - 2.2.0\n",
    "#               keras Version - 2.4.3\n",
    "# If the system is GPU enabled, CUDA and CUDnn should be installed and added to path."
   ]
  },
  {
   "cell_type": "code",
   "execution_count": 2,
   "metadata": {
    "id": "xF3cGcpLXk4S"
   },
   "outputs": [],
   "source": [
    "# All necessary imports\n",
    "from keras.models import Sequential\n",
    "from keras.layers import Conv2D, MaxPooling2D\n",
    "from keras.layers import Activation, Dropout, Flatten, Dense\n",
    "from keras import backend as K\n",
    "from keras.preprocessing.image import ImageDataGenerator, array_to_img, img_to_array, load_img\n",
    "from keras.optimizers import Adam, RMSprop\n",
    "import glob\n",
    "import numpy as np"
   ]
  },
  {
   "cell_type": "code",
   "execution_count": 3,
   "metadata": {},
   "outputs": [
    {
     "name": "stdout",
     "output_type": "stream",
     "text": [
      "2.4.3\n",
      "2.2.0\n"
     ]
    }
   ],
   "source": [
    "# Check versions\n",
    "import keras\n",
    "import tensorflow \n",
    "print(keras.__version__)\n",
    "print(tensorflow.__version__)"
   ]
  },
  {
   "cell_type": "code",
   "execution_count": 4,
   "metadata": {
    "id": "aK2XG6DIXk4b"
   },
   "outputs": [],
   "source": [
    "#Here Image dimensions are in the ratio 3:2. \n",
    "#It can be changed based on object shapes.\n",
    "\n",
    "img_width, img_height = 450, 300"
   ]
  },
  {
   "cell_type": "code",
   "execution_count": 5,
   "metadata": {
    "id": "8m1O1jGdXk4i"
   },
   "outputs": [],
   "source": [
    "train_data_dir = 'images/train' #train images path\n",
    "test_data_dir = 'images/test' #test images path\n",
    "epochs = 20\n",
    "batch_size = 2  "
   ]
  },
  {
   "cell_type": "code",
   "execution_count": 6,
   "metadata": {
    "id": "VfUFqjAFXk4p"
   },
   "outputs": [],
   "source": [
    "if K.image_data_format() == 'channels_first':\n",
    "    input_shape = (3, img_width, img_height)\n",
    "else:\n",
    "    input_shape = (img_width, img_height, 3)"
   ]
  },
  {
   "cell_type": "code",
   "execution_count": 7,
   "metadata": {
    "id": "3xjSwDNCXk4v"
   },
   "outputs": [],
   "source": [
    "# Training Network (Model)\n",
    "\n",
    "model = Sequential()\n",
    "\n",
    "model.add(Conv2D(32, (3, 3), input_shape=input_shape))\n",
    "model.add(Activation('relu'))\n",
    "model.add(MaxPooling2D(pool_size=(2, 2)))\n",
    "\n",
    "model.add(Conv2D(64, (3, 3)))\n",
    "model.add(Activation('relu'))\n",
    "model.add(MaxPooling2D(pool_size=(2, 2)))\n",
    "\n",
    "model.add(Conv2D(32, (3, 3)))\n",
    "model.add(Activation('relu'))\n",
    "model.add(MaxPooling2D(pool_size=(2, 2)))\n",
    "\n",
    "model.add(Flatten())\n",
    "model.add(Dense(64))\n",
    "model.add(Activation('relu'))\n",
    "model.add(Dropout(0.5))\n",
    "model.add(Dense(1))\n",
    "model.add(Activation('sigmoid'))"
   ]
  },
  {
   "cell_type": "code",
   "execution_count": 8,
   "metadata": {
    "id": "NAnPqyN2Xk41"
   },
   "outputs": [],
   "source": [
    "# Hyperparameters\n",
    "sgd = RMSprop(lr=0.0005)\n",
    "model.compile(loss='binary_crossentropy',\n",
    "              optimizer=sgd,\n",
    "              metrics=['accuracy'])"
   ]
  },
  {
   "cell_type": "code",
   "execution_count": 9,
   "metadata": {
    "colab": {
     "base_uri": "https://localhost:8080/",
     "height": 663
    },
    "id": "b8EkrASvXk5F",
    "outputId": "e843cc2d-b670-4a08-f5b6-e5dc099fb1c2"
   },
   "outputs": [
    {
     "name": "stdout",
     "output_type": "stream",
     "text": [
      "Model: \"sequential\"\n",
      "_________________________________________________________________\n",
      "Layer (type)                 Output Shape              Param #   \n",
      "=================================================================\n",
      "conv2d (Conv2D)              (None, 448, 298, 32)      896       \n",
      "_________________________________________________________________\n",
      "activation (Activation)      (None, 448, 298, 32)      0         \n",
      "_________________________________________________________________\n",
      "max_pooling2d (MaxPooling2D) (None, 224, 149, 32)      0         \n",
      "_________________________________________________________________\n",
      "conv2d_1 (Conv2D)            (None, 222, 147, 64)      18496     \n",
      "_________________________________________________________________\n",
      "activation_1 (Activation)    (None, 222, 147, 64)      0         \n",
      "_________________________________________________________________\n",
      "max_pooling2d_1 (MaxPooling2 (None, 111, 73, 64)       0         \n",
      "_________________________________________________________________\n",
      "conv2d_2 (Conv2D)            (None, 109, 71, 32)       18464     \n",
      "_________________________________________________________________\n",
      "activation_2 (Activation)    (None, 109, 71, 32)       0         \n",
      "_________________________________________________________________\n",
      "max_pooling2d_2 (MaxPooling2 (None, 54, 35, 32)        0         \n",
      "_________________________________________________________________\n",
      "flatten (Flatten)            (None, 60480)             0         \n",
      "_________________________________________________________________\n",
      "dense (Dense)                (None, 64)                3870784   \n",
      "_________________________________________________________________\n",
      "activation_3 (Activation)    (None, 64)                0         \n",
      "_________________________________________________________________\n",
      "dropout (Dropout)            (None, 64)                0         \n",
      "_________________________________________________________________\n",
      "dense_1 (Dense)              (None, 1)                 65        \n",
      "_________________________________________________________________\n",
      "activation_4 (Activation)    (None, 1)                 0         \n",
      "=================================================================\n",
      "Total params: 3,908,705\n",
      "Trainable params: 3,908,705\n",
      "Non-trainable params: 0\n",
      "_________________________________________________________________\n"
     ]
    }
   ],
   "source": [
    "# Print Summary of Model\n",
    "model.summary()"
   ]
  },
  {
   "cell_type": "code",
   "execution_count": 10,
   "metadata": {
    "colab": {
     "base_uri": "https://localhost:8080/",
     "height": 34
    },
    "id": "C2QZpcICXk5N",
    "outputId": "fd6fbbf1-9a05-4bb3-ba7e-8e998690d7b9"
   },
   "outputs": [
    {
     "name": "stdout",
     "output_type": "stream",
     "text": [
      "Found 48 images belonging to 2 classes.\n"
     ]
    }
   ],
   "source": [
    "# Using ImageDataGenerator to use \"flow_from_directory\" function which automatically..\n",
    "#..labels the binary classification images.\n",
    "# All identical class images should be kept in seperate folders under one train folder.\n",
    "# Thus for binary classification train folder will have two sub folders.\n",
    "# No need to rescale the pixel values of images\n",
    "\n",
    "train_datagen = ImageDataGenerator()\n",
    "train_generator = train_datagen.flow_from_directory(\n",
    "    train_data_dir,\n",
    "    target_size=(img_width, img_height),\n",
    "    batch_size=batch_size,\n",
    "    class_mode='binary')"
   ]
  },
  {
   "cell_type": "code",
   "execution_count": 11,
   "metadata": {
    "colab": {
     "base_uri": "https://localhost:8080/",
     "height": 1000
    },
    "id": "-GWMHKAYXk5T",
    "outputId": "f9ef08f8-eb21-4199-ccec-6f6dc86e102f"
   },
   "outputs": [
    {
     "name": "stdout",
     "output_type": "stream",
     "text": [
      "Epoch 1/20\n",
      "24/24 [==============================] - 10s 428ms/step - loss: 42.6767 - accuracy: 0.7292\n",
      "Epoch 2/20\n",
      "24/24 [==============================] - 10s 417ms/step - loss: 0.2705 - accuracy: 0.9792\n",
      "Epoch 3/20\n",
      "24/24 [==============================] - 10s 429ms/step - loss: 0.0195 - accuracy: 0.9792\n",
      "Epoch 4/20\n",
      "24/24 [==============================] - 10s 417ms/step - loss: 0.0074 - accuracy: 1.0000\n",
      "Epoch 5/20\n",
      "24/24 [==============================] - 10s 423ms/step - loss: 9.6312 - accuracy: 0.8750\n",
      "Epoch 6/20\n",
      "24/24 [==============================] - 10s 419ms/step - loss: 6.0652e-05 - accuracy: 1.0000\n",
      "Epoch 7/20\n",
      "24/24 [==============================] - 10s 416ms/step - loss: 4.0953 - accuracy: 0.9375\n",
      "Epoch 8/20\n",
      "24/24 [==============================] - 10s 415ms/step - loss: 2.7740e-09 - accuracy: 1.0000\n",
      "Epoch 9/20\n",
      "24/24 [==============================] - 10s 425ms/step - loss: 0.7918 - accuracy: 0.9792\n",
      "Epoch 10/20\n",
      "24/24 [==============================] - 10s 416ms/step - loss: 6.3415 - accuracy: 0.9167\n",
      "Epoch 11/20\n",
      "24/24 [==============================] - 10s 421ms/step - loss: 5.5856e-23 - accuracy: 1.0000\n",
      "Epoch 12/20\n",
      "24/24 [==============================] - 10s 432ms/step - loss: 2.5023e-12 - accuracy: 1.0000\n",
      "Epoch 13/20\n",
      "24/24 [==============================] - 11s 448ms/step - loss: 7.2866 - accuracy: 0.9167\n",
      "Epoch 14/20\n",
      "24/24 [==============================] - 10s 432ms/step - loss: 0.8850 - accuracy: 0.9792\n",
      "Epoch 15/20\n",
      "24/24 [==============================] - 11s 441ms/step - loss: 0.0000e+00 - accuracy: 1.0000\n",
      "Epoch 16/20\n",
      "24/24 [==============================] - 10s 429ms/step - loss: 0.0000e+00 - accuracy: 1.0000\n",
      "Epoch 17/20\n",
      "24/24 [==============================] - 10s 431ms/step - loss: 0.0000e+00 - accuracy: 1.0000\n",
      "Epoch 18/20\n",
      "24/24 [==============================] - 11s 472ms/step - loss: 1.1590e-19 - accuracy: 1.0000\n",
      "Epoch 19/20\n",
      "24/24 [==============================] - 10s 434ms/step - loss: 0.0000e+00 - accuracy: 1.0000\n",
      "Epoch 20/20\n",
      "24/24 [==============================] - 10s 419ms/step - loss: 7.3904e-34 - accuracy: 1.0000\n"
     ]
    },
    {
     "data": {
      "text/plain": [
       "<tensorflow.python.keras.callbacks.History at 0x7f63206e7898>"
      ]
     },
     "execution_count": 11,
     "metadata": {},
     "output_type": "execute_result"
    }
   ],
   "source": [
    "#Training the model\n",
    "model.fit(\n",
    "    train_generator,\n",
    "    epochs=epochs)"
   ]
  },
  {
   "cell_type": "code",
   "execution_count": 12,
   "metadata": {
    "id": "9FzUE2cXXk5Z"
   },
   "outputs": [],
   "source": [
    "#Saving weights\n",
    "model.save_weights('final_orientation1.h5')"
   ]
  },
  {
   "cell_type": "code",
   "execution_count": 13,
   "metadata": {
    "colab": {
     "base_uri": "https://localhost:8080/",
     "height": 221
    },
    "id": "i6UpFYNHYFce",
    "outputId": "0afbb58c-b7fa-4c0f-8b8f-4edeed7b15d0"
   },
   "outputs": [
    {
     "name": "stdout",
     "output_type": "stream",
     "text": [
      "[[1.]]\n",
      "[[0.]]\n",
      "[[0.]]\n",
      "[[0.]]\n",
      "[[1.]]\n",
      "[[1.]]\n",
      "[[0.]]\n",
      "[[1.]]\n",
      "[[0.]]\n",
      "[[1.]]\n",
      "[[0.]]\n",
      "[[1.]]\n"
     ]
    }
   ],
   "source": [
    "# Predict the output for all test images\n",
    "test_names = sorted(glob.glob(\"images/test/test_folder/*.png\"))\n",
    "for name in test_names :\n",
    "  img = load_img(name,target_size=(450,300))\n",
    "  input_arr = img_to_array(img)\n",
    "  input_arr = np.array([input_arr])  # Convert single image to a batch.\n",
    "  print(model.predict(input_arr))"
   ]
  },
  {
   "cell_type": "code",
   "execution_count": 14,
   "metadata": {},
   "outputs": [],
   "source": [
    "# ImageDataGenerator function should not be used for predicting output for test images as it may give...\n",
    "# ... wrong results. Reason for this can be found out."
   ]
  },
  {
   "cell_type": "code",
   "execution_count": null,
   "metadata": {},
   "outputs": [],
   "source": []
  }
 ],
 "metadata": {
  "accelerator": "GPU",
  "colab": {
   "collapsed_sections": [],
   "name": "train_orientation1.ipynb",
   "provenance": []
  },
  "kernelspec": {
   "display_name": "Python 3",
   "language": "python",
   "name": "python3"
  },
  "language_info": {
   "codemirror_mode": {
    "name": "ipython",
    "version": 3
   },
   "file_extension": ".py",
   "mimetype": "text/x-python",
   "name": "python",
   "nbconvert_exporter": "python",
   "pygments_lexer": "ipython3",
   "version": "3.5.2"
  }
 },
 "nbformat": 4,
 "nbformat_minor": 1
}
