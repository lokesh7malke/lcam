{
 "cells": [
  {
   "cell_type": "code",
   "execution_count": 1,
   "metadata": {
    "id": "xna29dKDdX5H"
   },
   "outputs": [],
   "source": [
    "# Tensorflow and Keras should be at their latest version for good accuracy.\n",
    "# Versions used here are : \n",
    "#               tensorflow Version - 2.2.0\n",
    "#               keras Version - 2.4.3\n",
    "# If the system is GPU enabled, CUDA and CUDnn should be installed and added to path."
   ]
  },
  {
   "cell_type": "code",
   "execution_count": 2,
   "metadata": {
    "colab": {
     "base_uri": "https://localhost:8080/",
     "height": 34
    },
    "id": "3q4p8Eylf50I",
    "outputId": "2524ea98-4a14-4f23-a553-20b6895d374a"
   },
   "outputs": [
    {
     "name": "stdout",
     "output_type": "stream",
     "text": [
      "Drive already mounted at /content/drive; to attempt to forcibly remount, call drive.mount(\"/content/drive\", force_remount=True).\n"
     ]
    }
   ],
   "source": [
    "from google.colab import drive\n",
    "drive.mount('/content/drive')"
   ]
  },
  {
   "cell_type": "code",
   "execution_count": 4,
   "metadata": {
    "colab": {
     "base_uri": "https://localhost:8080/",
     "height": 34
    },
    "id": "gEaVlfy7gIaT",
    "outputId": "12141c8c-36dc-47b7-db85-7a2e78a38c2a"
   },
   "outputs": [
    {
     "name": "stdout",
     "output_type": "stream",
     "text": [
      "/content/drive/My Drive\n"
     ]
    }
   ],
   "source": [
    "cd drive/My\\ Drive"
   ]
  },
  {
   "cell_type": "code",
   "execution_count": 2,
   "metadata": {
    "colab": {
     "base_uri": "https://localhost:8080/",
     "height": 136
    },
    "id": "qIiz8v3qgNMC",
    "outputId": "badf6241-6e94-4a15-f5a9-37fb267bd3b1"
   },
   "outputs": [
    {
     "name": "stdout",
     "output_type": "stream",
     "text": [
      "\u001b[0m\u001b[01;35m001.jpeg\u001b[0m        final_orientation_colab.ipynb    orientation1_1.h5\r\n",
      "\u001b[01;35m002.jpeg\u001b[0m        final_orientation.ipynb          orientation1_1.py\r\n",
      "\u001b[01;35m003.jpeg\u001b[0m        final_orientation_model3.h5      orientation1.py\r\n",
      "\u001b[01;35m004.jpeg\u001b[0m        final_orientation_model.h5       orientation2.py\r\n",
      "\u001b[01;35m005.jpeg\u001b[0m        generate_augmented_images.ipynb  \u001b[01;34mrandom_lcam\u001b[0m/\r\n",
      "\u001b[01;35maug_0_8637.png\u001b[0m  \u001b[01;34mimages\u001b[0m/                          README.md\r\n",
      "check2.py       \u001b[01;35mmobile_0.jpeg\u001b[0m                    train_orientation1.ipynb\r\n",
      "check.py        modified_camera_image.py         video_to_frames.py\r\n",
      "\u001b[01;34mcuda\u001b[0m/           modified_camera_video.py\r\n"
     ]
    }
   ],
   "source": [
    "ls"
   ]
  },
  {
   "cell_type": "code",
   "execution_count": 14,
   "metadata": {
    "id": "xF3cGcpLXk4S"
   },
   "outputs": [],
   "source": [
    "# All necessary imports\n",
    "from keras.models import Sequential\n",
    "from keras.layers import Conv2D, MaxPooling2D\n",
    "from keras.layers import Activation, Dropout, Flatten, Dense\n",
    "from keras import backend as K\n",
    "from keras.preprocessing.image import ImageDataGenerator, array_to_img, img_to_array, load_img\n",
    "from keras.optimizers import Adam, RMSprop\n",
    "import glob\n",
    "import numpy as np"
   ]
  },
  {
   "cell_type": "code",
   "execution_count": 15,
   "metadata": {
    "colab": {
     "base_uri": "https://localhost:8080/",
     "height": 51
    },
    "id": "MqSAzFChdX5W",
    "outputId": "999a06dc-a94e-40df-8558-129d5f1eba8d"
   },
   "outputs": [
    {
     "name": "stdout",
     "output_type": "stream",
     "text": [
      "2.4.3\n",
      "2.3.0\n"
     ]
    }
   ],
   "source": [
    "# Check versions\n",
    "import keras\n",
    "import tensorflow \n",
    "print(keras.__version__)\n",
    "print(tensorflow.__version__)"
   ]
  },
  {
   "cell_type": "code",
   "execution_count": 16,
   "metadata": {
    "id": "aK2XG6DIXk4b"
   },
   "outputs": [],
   "source": [
    "#Here Image dimensions are in the ratio 3:2. \n",
    "#It can be changed based on object shapes.\n",
    "\n",
    "img_width = 500\n",
    "img_height = 300"
   ]
  },
  {
   "cell_type": "code",
   "execution_count": 24,
   "metadata": {
    "id": "8m1O1jGdXk4i"
   },
   "outputs": [],
   "source": [
    "train_data_dir = 'images/train' #train images path\n",
    "val_data_dir = 'images/validation'\n",
    "test_data_dir = 'images/test' #test images path\n",
    "epochs = 40\n",
    "batch_size = 4 "
   ]
  },
  {
   "cell_type": "code",
   "execution_count": 18,
   "metadata": {
    "id": "VfUFqjAFXk4p"
   },
   "outputs": [],
   "source": [
    "input_shape = (img_width, img_height, 3)"
   ]
  },
  {
   "cell_type": "code",
   "execution_count": 20,
   "metadata": {
    "id": "3xjSwDNCXk4v"
   },
   "outputs": [],
   "source": [
    "# Training Network (Model)\n",
    "\n",
    "model = Sequential()\n",
    "\n",
    "model.add(Conv2D(32, (3, 3), input_shape=input_shape))\n",
    "model.add(Activation('relu'))\n",
    "model.add(MaxPooling2D(pool_size=(2, 2)))\n",
    "\n",
    "model.add(Conv2D(32, (3, 3)))\n",
    "model.add(Activation('relu'))\n",
    "model.add(MaxPooling2D(pool_size=(2, 2)))\n",
    "\n",
    "model.add(Conv2D(64, (3, 3)))\n",
    "model.add(Activation('relu'))\n",
    "model.add(MaxPooling2D(pool_size=(2, 2)))\n",
    "\n",
    "model.add(Conv2D(128, (3, 3)))\n",
    "model.add(Activation('relu'))\n",
    "model.add(MaxPooling2D(pool_size=(2, 2)))\n",
    "\n",
    "model.add(Flatten())\n",
    "model.add(Dense(128))\n",
    "model.add(Activation('relu'))\n",
    "model.add(Dropout(0.5))\n",
    "model.add(Dense(64))\n",
    "model.add(Activation('relu'))\n",
    "model.add(Dropout(0.5))\n",
    "model.add(Dense(1))\n",
    "model.add(Activation('sigmoid'))"
   ]
  },
  {
   "cell_type": "code",
   "execution_count": 21,
   "metadata": {
    "id": "NAnPqyN2Xk41"
   },
   "outputs": [],
   "source": [
    "# Hyperparameters\n",
    "sgd = RMSprop(lr=0.00001)\n",
    "model.compile(loss='binary_crossentropy',\n",
    "              optimizer=sgd,\n",
    "              metrics=['accuracy'])"
   ]
  },
  {
   "cell_type": "code",
   "execution_count": 22,
   "metadata": {
    "colab": {
     "base_uri": "https://localhost:8080/",
     "height": 663
    },
    "id": "b8EkrASvXk5F",
    "outputId": "43c07eec-9feb-435f-fbe1-a7bbca7cdf6d"
   },
   "outputs": [
    {
     "name": "stdout",
     "output_type": "stream",
     "text": [
      "Model: \"sequential_1\"\n",
      "_________________________________________________________________\n",
      "Layer (type)                 Output Shape              Param #   \n",
      "=================================================================\n",
      "conv2d_3 (Conv2D)            (None, 498, 298, 32)      896       \n",
      "_________________________________________________________________\n",
      "activation_5 (Activation)    (None, 498, 298, 32)      0         \n",
      "_________________________________________________________________\n",
      "max_pooling2d_3 (MaxPooling2 (None, 249, 149, 32)      0         \n",
      "_________________________________________________________________\n",
      "conv2d_4 (Conv2D)            (None, 247, 147, 32)      9248      \n",
      "_________________________________________________________________\n",
      "activation_6 (Activation)    (None, 247, 147, 32)      0         \n",
      "_________________________________________________________________\n",
      "max_pooling2d_4 (MaxPooling2 (None, 123, 73, 32)       0         \n",
      "_________________________________________________________________\n",
      "conv2d_5 (Conv2D)            (None, 121, 71, 64)       18496     \n",
      "_________________________________________________________________\n",
      "activation_7 (Activation)    (None, 121, 71, 64)       0         \n",
      "_________________________________________________________________\n",
      "max_pooling2d_5 (MaxPooling2 (None, 60, 35, 64)        0         \n",
      "_________________________________________________________________\n",
      "conv2d_6 (Conv2D)            (None, 58, 33, 128)       73856     \n",
      "_________________________________________________________________\n",
      "activation_8 (Activation)    (None, 58, 33, 128)       0         \n",
      "_________________________________________________________________\n",
      "max_pooling2d_6 (MaxPooling2 (None, 29, 16, 128)       0         \n",
      "_________________________________________________________________\n",
      "flatten_1 (Flatten)          (None, 59392)             0         \n",
      "_________________________________________________________________\n",
      "dense_2 (Dense)              (None, 128)               7602304   \n",
      "_________________________________________________________________\n",
      "activation_9 (Activation)    (None, 128)               0         \n",
      "_________________________________________________________________\n",
      "dropout_1 (Dropout)          (None, 128)               0         \n",
      "_________________________________________________________________\n",
      "dense_3 (Dense)              (None, 64)                8256      \n",
      "_________________________________________________________________\n",
      "activation_10 (Activation)   (None, 64)                0         \n",
      "_________________________________________________________________\n",
      "dropout_2 (Dropout)          (None, 64)                0         \n",
      "_________________________________________________________________\n",
      "dense_4 (Dense)              (None, 1)                 65        \n",
      "_________________________________________________________________\n",
      "activation_11 (Activation)   (None, 1)                 0         \n",
      "=================================================================\n",
      "Total params: 7,713,121\n",
      "Trainable params: 7,713,121\n",
      "Non-trainable params: 0\n",
      "_________________________________________________________________\n"
     ]
    }
   ],
   "source": [
    "# Print Summary of Model\n",
    "model.summary()"
   ]
  },
  {
   "cell_type": "code",
   "execution_count": 23,
   "metadata": {
    "colab": {
     "base_uri": "https://localhost:8080/",
     "height": 51
    },
    "id": "C2QZpcICXk5N",
    "outputId": "2c544e5a-aa51-46df-ab5a-e8a51f5c9d29"
   },
   "outputs": [
    {
     "name": "stdout",
     "output_type": "stream",
     "text": [
      "Found 90 images belonging to 2 classes.\n",
      "Found 12 images belonging to 2 classes.\n"
     ]
    }
   ],
   "source": [
    "# Using ImageDataGenerator to use \"flow_from_directory\" function which automatically..\n",
    "#..labels the binary classification images.\n",
    "# All identical class images should be kept in seperate folders under one train folder.\n",
    "# Thus for binary classification train folder will have two sub folders.\n",
    "# No need to rescale the pixel values of images\n",
    "\n",
    "train_datagen = ImageDataGenerator()\n",
    "val_datagen = ImageDataGenerator()\n",
    "\n",
    "train_generator = train_datagen.flow_from_directory(\n",
    "    train_data_dir,\n",
    "    target_size=(img_height, img_width),   \n",
    "    batch_size=batch_size,\n",
    "    class_mode='binary') #corrected height and width\n",
    "\n",
    "val_generator = val_datagen.flow_from_directory(\n",
    "    val_data_dir,\n",
    "    target_size=(img_height, img_width),\n",
    "    batch_size=batch_size,\n",
    "    class_mode='binary') #corrected height and width"
   ]
  },
  {
   "cell_type": "code",
   "execution_count": 25,
   "metadata": {
    "colab": {
     "base_uri": "https://localhost:8080/",
     "height": 1000
    },
    "id": "-GWMHKAYXk5T",
    "outputId": "1ef6f5eb-2cd6-46e7-9834-83c1328c7777"
   },
   "outputs": [
    {
     "name": "stdout",
     "output_type": "stream",
     "text": [
      "Epoch 1/40\n",
      "23/23 [==============================] - 34s 1s/step - accuracy: 0.3889 - loss: 22.6893 - val_accuracy: 0.5000 - val_loss: 6.4093\n",
      "Epoch 2/40\n",
      "23/23 [==============================] - 23s 999ms/step - accuracy: 0.4667 - loss: 13.4180 - val_accuracy: 0.5000 - val_loss: 5.5724\n",
      "Epoch 3/40\n",
      "23/23 [==============================] - 24s 1s/step - accuracy: 0.4889 - loss: 7.8614 - val_accuracy: 0.5000 - val_loss: 0.8542\n",
      "Epoch 4/40\n",
      "23/23 [==============================] - 25s 1s/step - accuracy: 0.5222 - loss: 4.2686 - val_accuracy: 0.5000 - val_loss: 1.6077\n",
      "Epoch 5/40\n",
      "23/23 [==============================] - 23s 1s/step - accuracy: 0.6222 - loss: 2.7502 - val_accuracy: 0.6667 - val_loss: 0.9004\n",
      "Epoch 6/40\n",
      "23/23 [==============================] - 24s 1s/step - accuracy: 0.6000 - loss: 0.8159 - val_accuracy: 0.5000 - val_loss: 0.7863\n",
      "Epoch 7/40\n",
      "23/23 [==============================] - 23s 1s/step - accuracy: 0.5111 - loss: 0.8489 - val_accuracy: 0.5000 - val_loss: 0.6937\n",
      "Epoch 8/40\n",
      "23/23 [==============================] - 23s 988ms/step - accuracy: 0.5556 - loss: 0.8131 - val_accuracy: 0.5833 - val_loss: 0.6192\n",
      "Epoch 9/40\n",
      "23/23 [==============================] - 22s 968ms/step - accuracy: 0.5222 - loss: 0.8039 - val_accuracy: 0.7500 - val_loss: 0.6604\n",
      "Epoch 10/40\n",
      "23/23 [==============================] - 25s 1s/step - accuracy: 0.6111 - loss: 0.6535 - val_accuracy: 0.5000 - val_loss: 0.7870\n",
      "Epoch 11/40\n",
      "23/23 [==============================] - 23s 1s/step - accuracy: 0.5333 - loss: 0.7365 - val_accuracy: 0.6667 - val_loss: 0.6582\n",
      "Epoch 12/40\n",
      "23/23 [==============================] - 25s 1s/step - accuracy: 0.5556 - loss: 0.6941 - val_accuracy: 0.5000 - val_loss: 0.6936\n",
      "Epoch 13/40\n",
      "23/23 [==============================] - 24s 1s/step - accuracy: 0.5444 - loss: 0.7225 - val_accuracy: 0.5000 - val_loss: 0.6936\n",
      "Epoch 14/40\n",
      "23/23 [==============================] - 23s 992ms/step - accuracy: 0.5889 - loss: 0.6895 - val_accuracy: 0.6667 - val_loss: 0.6598\n",
      "Epoch 15/40\n",
      "23/23 [==============================] - 23s 1s/step - accuracy: 0.5556 - loss: 0.7080 - val_accuracy: 0.5000 - val_loss: 0.6938\n",
      "Epoch 16/40\n",
      "23/23 [==============================] - 23s 1s/step - accuracy: 0.5000 - loss: 0.6932 - val_accuracy: 0.5000 - val_loss: 0.6938\n",
      "Epoch 17/40\n",
      "23/23 [==============================] - 23s 1s/step - accuracy: 0.5667 - loss: 0.7009 - val_accuracy: 0.6667 - val_loss: 0.6852\n",
      "Epoch 18/40\n",
      "23/23 [==============================] - 24s 1s/step - accuracy: 0.5000 - loss: 0.7224 - val_accuracy: 0.5000 - val_loss: 0.6931\n",
      "Epoch 19/40\n",
      "23/23 [==============================] - 24s 1s/step - accuracy: 0.5111 - loss: 0.6947 - val_accuracy: 0.5000 - val_loss: 0.6931\n",
      "Epoch 20/40\n",
      "23/23 [==============================] - 23s 1s/step - accuracy: 0.5000 - loss: 0.6931 - val_accuracy: 0.5000 - val_loss: 0.6931\n",
      "Epoch 21/40\n",
      "23/23 [==============================] - 24s 1s/step - accuracy: 0.5000 - loss: 0.6932 - val_accuracy: 0.5000 - val_loss: 0.6931\n",
      "Epoch 22/40\n",
      "23/23 [==============================] - 23s 1s/step - accuracy: 0.5000 - loss: 0.6931 - val_accuracy: 0.5000 - val_loss: 0.6931\n",
      "Epoch 23/40\n",
      "23/23 [==============================] - 24s 1s/step - accuracy: 0.5000 - loss: 0.6932 - val_accuracy: 0.5000 - val_loss: 0.6931\n",
      "Epoch 24/40\n",
      "23/23 [==============================] - 23s 1s/step - accuracy: 0.5000 - loss: 0.6931 - val_accuracy: 0.5000 - val_loss: 0.6931\n",
      "Epoch 25/40\n",
      "23/23 [==============================] - 23s 1s/step - accuracy: 0.5000 - loss: 0.6931 - val_accuracy: 0.5000 - val_loss: 0.6931\n",
      "Epoch 26/40\n",
      "23/23 [==============================] - 22s 976ms/step - accuracy: 0.5000 - loss: 0.6932 - val_accuracy: 0.5000 - val_loss: 0.6931\n",
      "Epoch 27/40\n",
      "23/23 [==============================] - 24s 1s/step - accuracy: 0.5000 - loss: 0.6932 - val_accuracy: 0.5000 - val_loss: 0.6931\n",
      "Epoch 28/40\n",
      "23/23 [==============================] - 23s 1s/step - accuracy: 0.5000 - loss: 0.6931 - val_accuracy: 0.5000 - val_loss: 0.6931\n",
      "Epoch 29/40\n",
      "23/23 [==============================] - 23s 1s/step - accuracy: 0.5000 - loss: 0.6932 - val_accuracy: 0.5000 - val_loss: 0.6931\n",
      "Epoch 30/40\n",
      "23/23 [==============================] - 24s 1s/step - accuracy: 0.5000 - loss: 0.6931 - val_accuracy: 0.5000 - val_loss: 0.6931\n",
      "Epoch 31/40\n",
      "23/23 [==============================] - 24s 1s/step - accuracy: 0.5000 - loss: 0.6932 - val_accuracy: 0.5000 - val_loss: 0.6931\n",
      "Epoch 32/40\n",
      "23/23 [==============================] - 22s 965ms/step - accuracy: 0.5000 - loss: 0.6932 - val_accuracy: 0.5000 - val_loss: 0.6931\n",
      "Epoch 33/40\n",
      "23/23 [==============================] - 23s 1s/step - accuracy: 0.5000 - loss: 0.6932 - val_accuracy: 0.5000 - val_loss: 0.6931\n",
      "Epoch 34/40\n",
      "23/23 [==============================] - 24s 1s/step - accuracy: 0.5000 - loss: 0.6931 - val_accuracy: 0.5000 - val_loss: 0.6931\n",
      "Epoch 35/40\n",
      "23/23 [==============================] - 24s 1s/step - accuracy: 0.5000 - loss: 0.6932 - val_accuracy: 0.5000 - val_loss: 0.6931\n",
      "Epoch 36/40\n",
      "23/23 [==============================] - 23s 1s/step - accuracy: 0.5000 - loss: 0.6931 - val_accuracy: 0.5000 - val_loss: 0.6931\n",
      "Epoch 37/40\n",
      "23/23 [==============================] - 24s 1s/step - accuracy: 0.5000 - loss: 0.6931 - val_accuracy: 0.5000 - val_loss: 0.6931\n",
      "Epoch 38/40\n",
      "23/23 [==============================] - 25s 1s/step - accuracy: 0.5000 - loss: 0.6931 - val_accuracy: 0.5000 - val_loss: 0.6931\n",
      "Epoch 39/40\n",
      "23/23 [==============================] - 26s 1s/step - accuracy: 0.5000 - loss: 0.6931 - val_accuracy: 0.5000 - val_loss: 0.6931\n",
      "Epoch 40/40\n",
      "23/23 [==============================] - 26s 1s/step - accuracy: 0.5000 - loss: 0.6931 - val_accuracy: 0.5000 - val_loss: 0.6931\n"
     ]
    },
    {
     "data": {
      "text/plain": [
       "<tensorflow.python.keras.callbacks.History at 0x7fb700527dd8>"
      ]
     },
     "execution_count": 25,
     "metadata": {},
     "output_type": "execute_result"
    }
   ],
   "source": [
    "#Training the model\n",
    "#model.fit_generator(train_it, steps_per_epoch=16, validation_data=val_it, validation_steps=8)\n",
    "model.fit( train_generator, validation_data=val_generator, epochs=epochs)"
   ]
  },
  {
   "cell_type": "code",
   "execution_count": 53,
   "metadata": {
    "id": "9FzUE2cXXk5Z"
   },
   "outputs": [],
   "source": [
    "#Saving model\n",
    "model.save('final_orientation_model3.h5')"
   ]
  },
  {
   "cell_type": "code",
   "execution_count": 61,
   "metadata": {
    "colab": {
     "base_uri": "https://localhost:8080/",
     "height": 153
    },
    "id": "i6UpFYNHYFce",
    "outputId": "6c962ce8-b5df-4aa3-9b49-3590214052ca"
   },
   "outputs": [
    {
     "name": "stdout",
     "output_type": "stream",
     "text": [
      "images/test/test_folder/image1.jpeg [[0.03817537]]\n",
      "images/test/test_folder/image15.jpeg [[1.]]\n",
      "images/test/test_folder/image16.jpeg [[1.]]\n",
      "images/test/test_folder/image2.jpeg [[0.02437707]]\n",
      "images/test/test_folder/image3.jpeg [[0.01478617]]\n",
      "images/test/test_folder/image4.jpeg [[0.01631394]]\n",
      "images/test/test_folder/image5.jpeg [[0.9999999]]\n",
      "images/test/test_folder/image6.jpeg [[1.]]\n"
     ]
    }
   ],
   "source": [
    "# Predict the output for all test images\n",
    "test_names = sorted(glob.glob(\"images/test/test_folder/*.jpeg\"))\n",
    "for name in test_names :\n",
    "  img = load_img(name,target_size=(img_height,img_width)) ##corrected \n",
    "  input_arr = img_to_array(img)\n",
    "  input_arr = np.array([input_arr])  # Convert single image to a batch.\n",
    "  print(name,model.predict(input_arr))"
   ]
  },
  {
   "cell_type": "code",
   "execution_count": null,
   "metadata": {
    "id": "KVVZ6zKFdX6c"
   },
   "outputs": [],
   "source": [
    "# ImageDataGenerator function should not be used for predicting output for test images as it may give...\n",
    "# ... wrong results. Reason for this can be found out."
   ]
  },
  {
   "cell_type": "code",
   "execution_count": null,
   "metadata": {
    "id": "5HzH4-hOdX6j"
   },
   "outputs": [],
   "source": []
  }
 ],
 "metadata": {
  "accelerator": "GPU",
  "colab": {
   "collapsed_sections": [],
   "name": "final_orientation_colab.ipynb",
   "provenance": []
  },
  "kernelspec": {
   "display_name": "Python 3",
   "language": "python",
   "name": "python3"
  },
  "language_info": {
   "codemirror_mode": {
    "name": "ipython",
    "version": 3
   },
   "file_extension": ".py",
   "mimetype": "text/x-python",
   "name": "python",
   "nbconvert_exporter": "python",
   "pygments_lexer": "ipython3",
   "version": "3.5.2"
  }
 },
 "nbformat": 4,
 "nbformat_minor": 1
}
